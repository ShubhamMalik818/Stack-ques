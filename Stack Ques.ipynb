{
 "cells": [
  {
   "cell_type": "code",
   "execution_count": null,
   "id": "4930dfd2-20dd-488b-b706-fde4d799f5fb",
   "metadata": {},
   "outputs": [],
   "source": [
    "1. Implement a stack using a list in Python. Include the necessary methods such as push, pop, and isEmpty."
   ]
  },
  {
   "cell_type": "code",
   "execution_count": 3,
   "id": "ad65582c-085c-4a51-807d-c65c1a7074f1",
   "metadata": {},
   "outputs": [],
   "source": [
    "class Stack:\n",
    "    def __init__(self):\n",
    "        self.stack = []\n",
    "\n",
    "    def push(self, item):\n",
    "        self.stack.append(item)\n",
    "\n",
    "    def pop(self):\n",
    "        if not self.isEmpty():\n",
    "            return self.stack.pop()\n",
    "        else:\n",
    "            print(\"Stack is empty.\")\n",
    "\n",
    "    def isEmpty(self):\n",
    "        return len(self.stack) == 0"
   ]
  },
  {
   "cell_type": "code",
   "execution_count": 4,
   "id": "6b718fcc-fa9f-49f5-8fe0-8d5f953ffb24",
   "metadata": {},
   "outputs": [
    {
     "name": "stdout",
     "output_type": "stream",
     "text": [
      "False\n",
      "30\n",
      "20\n",
      "10\n",
      "Stack is empty.\n"
     ]
    }
   ],
   "source": [
    "# Create a stack instance\n",
    "stack = Stack()\n",
    "\n",
    "# Push elements to the stack\n",
    "stack.push(10)\n",
    "stack.push(20)\n",
    "stack.push(30)\n",
    "\n",
    "# Check if the stack is empty\n",
    "print(stack.isEmpty())  # Output: False\n",
    "\n",
    "# Pop elements from the stack\n",
    "print(stack.pop())  # Output: 30\n",
    "print(stack.pop())  # Output: 20\n",
    "print(stack.pop())  # Output: 10\n",
    "\n",
    "# Pop from an empty stack\n",
    "stack.pop()  # Output: Stack is empty."
   ]
  }
 ],
 "metadata": {
  "kernelspec": {
   "display_name": "Python 3 (ipykernel)",
   "language": "python",
   "name": "python3"
  },
  "language_info": {
   "codemirror_mode": {
    "name": "ipython",
    "version": 3
   },
   "file_extension": ".py",
   "mimetype": "text/x-python",
   "name": "python",
   "nbconvert_exporter": "python",
   "pygments_lexer": "ipython3",
   "version": "3.10.8"
  }
 },
 "nbformat": 4,
 "nbformat_minor": 5
}
